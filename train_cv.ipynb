{
  "cells": [
    {
      "cell_type": "code",
      "execution_count": null,
      "metadata": {
        "colab": {
          "base_uri": "https://localhost:8080/"
        },
        "id": "YYIQcHTHE4Xr",
        "outputId": "2f04a438-861c-4a68-c240-ee6c9ee5c3df"
      },
      "outputs": [],
      "source": [
        "# Download da biblioteca auxiliar\n",
        "\n",
        "!wget https://github.com/ufrpe-2021-2-IA/music-dataset/releases/download/v1.1.2/mgd-1.1.2-py3-none-any.whl\n",
        "%pip install mgd --find-links /content/"
      ]
    },
    {
      "cell_type": "markdown",
      "metadata": {
        "id": "uquBcOh4E9Nc"
      },
      "source": [
        "# Testes: Validação Cruzada\n",
        "\n",
        "Como já possuímos a divisão dos folds, precisamos implementar o nosso próprio loop de CV. Além disso, também vamos otimizar os hiperparâmetros para cada um dos algoritmos."
      ]
    },
    {
      "cell_type": "code",
      "execution_count": null,
      "metadata": {
        "id": "an5m9DF5IC5V"
      },
      "outputs": [],
      "source": [
        "#@title Configurações do Experimento\n",
        "import pandas as pd\n",
        "\n",
        "import numpy as np\n",
        "from sklearn.model_selection import train_test_split\n",
        "from sklearn.model_selection import cross_val_score\n",
        "\n",
        "from sklearn import svm\n",
        "from sklearn import tree\n",
        "from sklearn.neighbors import KNeighborsClassifier\n",
        "from sklearn.neural_network import MLPClassifier\n",
        "\n",
        "from mgd import utils\n",
        "\n",
        "import pathlib\n",
        "\n",
        "import numpy as np\n",
        "from sklearn.base import is_classifier, clone\n",
        "from sklearn.model_selection import GridSearchCV\n",
        "from sklearn.metrics import classification_report\n",
        "from sklearn.utils._testing import ignore_warnings\n",
        "from sklearn.exceptions import ConvergenceWarning\n",
        "\n",
        "# raw: sem normalização\n",
        "# min_max: com normalização min-max\n",
        "# standardized: com normalização standardization (média e variância)\n",
        "dataset = 'min_max' #@param [\"raw\", \"min_max\", \"standardized\"]\n",
        "experiment = 'experiment-1' #@param [\"experiment-1\", \"experiment-2\", \"experiment-3\", \"experiment-4\", \"experiment-5\"]\n",
        "selected_features = \"75Features\" #@param [\"all\", \"100Features\", \"75Features\"]\n",
        "utils.download_experiments(dataset)"
      ]
    },
    {
      "cell_type": "markdown",
      "metadata": {
        "id": "CWur3X9g4TxB"
      },
      "source": [
        "## Seleção Características Mais Importantes"
      ]
    },
    {
      "cell_type": "code",
      "execution_count": null,
      "metadata": {
        "id": "Vy_lIQJMwemF"
      },
      "outputs": [],
      "source": [
        "if selected_features == 'all':\n",
        "    selected_features = None\n",
        "elif selected_features == '75Features':\n",
        "    selected_features = ['spectral_roll_of_skew',\n",
        "                         'mfcc_10_max',\n",
        "                         'tonnetz_1_min',\n",
        "                         'mfcc_4_mean',\n",
        "                         'mfcc_4_median',\n",
        "                         'mfcc_9_std',\n",
        "                         'tonnetz_1_max',\n",
        "                         'mfcc_2_median',\n",
        "                         'tonnetz_2_max',\n",
        "                         'mfcc_12_std',\n",
        "                         'mfcc_2_mean',\n",
        "                         'mfcc_1_max',\n",
        "                         'mfcc_6_median',\n",
        "                         'mfcc_7_std',\n",
        "                         'mfcc_6_mean',\n",
        "                         'spectral_centroid_min',\n",
        "                         'mfcc_9_mean',\n",
        "                         'mfcc_11_min',\n",
        "                         'spectral_roll_of_min',\n",
        "                         'mfcc_9_median',\n",
        "                         'mfcc_12_max',\n",
        "                         'tonnetz_3_min',\n",
        "                         'tonnetz_4_min',\n",
        "                         'tonnetz_4_max',\n",
        "                         'mfcc_7_max',\n",
        "                         'spectral_flatness_mean',\n",
        "                         'mfcc_12_mean',\n",
        "                         'mfcc_12_median',\n",
        "                         'mfcc_11_mean',\n",
        "                         'mfcc_8_median',\n",
        "                         'tonnetz_3_max',\n",
        "                         'mfcc_11_median',\n",
        "                         'mfcc_8_mean',\n",
        "                         'mfcc_6_std',\n",
        "                         'tonnetz_6_max',\n",
        "                         'tonnetz_5_max',\n",
        "                         'tonnetz_5_min',\n",
        "                         'mfcc_4_std',\n",
        "                         'mfcc_4_max',\n",
        "                         'spectral_flatness_max',\n",
        "                         'mfcc_7_min',\n",
        "                         'mfcc_5_std',\n",
        "                         'tonnetz_6_min',\n",
        "                         'mfcc_5_min',\n",
        "                         'mfcc_8_max',\n",
        "                         'mfcc_3_std',\n",
        "                         'mfcc_6_max',\n",
        "                         'mfcc_5_median',\n",
        "                         'mfcc_7_mean',\n",
        "                         'mfcc_7_median',\n",
        "                         'mfcc_5_mean',\n",
        "                         'tonnetz_2_std',\n",
        "                         'spectral_flatness_std',\n",
        "                         'mfcc_2_max',\n",
        "                         'tonnetz_1_std',\n",
        "                         'spectral_roll_of_std',\n",
        "                         'mfcc_3_min',\n",
        "                         'tonnetz_3_std',\n",
        "                         'mfcc_1_median',\n",
        "                         'mfcc_1_mean',\n",
        "                         'mfcc_3_max',\n",
        "                         'mfcc_5_max',\n",
        "                         'tonnetz_4_std',\n",
        "                         'mfcc_3_median',\n",
        "                         'tonnetz_6_std',\n",
        "                         'mfcc_1_min',\n",
        "                         'mfcc_3_mean',\n",
        "                         'tonnetz_5_std',\n",
        "                         'spectral_centroid_median',\n",
        "                         'spectral_centroid_mean',\n",
        "                         'spectral_roll_of_median',\n",
        "                         'spectral_roll_of_mean',\n",
        "                         'spectral_centroid_std',\n",
        "                         'spectral_roll_of_max',\n",
        "                         'spectral_centroid_max']\n",
        "elif selected_features == '100Features':\n",
        "    selected_features = ['mfcc_5_skew',\n",
        "                         'tonnetz_1_kurtosis',\n",
        "                         'tonnetz_3_kurtosis',\n",
        "                         'mfcc_4_kurtosis',\n",
        "                         'mfcc_11_skew',\n",
        "                         'tonnetz_5_kurtosis',\n",
        "                         'spectral_flatness_min',\n",
        "                         'mfcc_10_skew',\n",
        "                         'mfcc_7_skew',\n",
        "                         'mfcc_6_skew',\n",
        "                         'tonnetz_2_min',\n",
        "                         'mfcc_9_max',\n",
        "                         'spectral_flatness_skew',\n",
        "                         'spectral_flatness_median',\n",
        "                         'mfcc_8_min',\n",
        "                         'mfcc_4_min',\n",
        "                         'mfcc_1_std',\n",
        "                         'mfcc_6_min',\n",
        "                         'mfcc_8_std',\n",
        "                         'mfcc_10_mean',\n",
        "                         'mfcc_10_median',\n",
        "                         'mfcc_2_std',\n",
        "                         'mfcc_9_min',\n",
        "                         'mfcc_11_std',\n",
        "                         'mfcc_10_std',\n",
        "                         'spectral_roll_of_skew',\n",
        "                         'mfcc_10_max',\n",
        "                         'tonnetz_1_min',\n",
        "                         'mfcc_4_mean',\n",
        "                         'mfcc_4_median',\n",
        "                         'mfcc_9_std',\n",
        "                         'tonnetz_1_max',\n",
        "                         'mfcc_2_median',\n",
        "                         'tonnetz_2_max',\n",
        "                         'mfcc_12_std',\n",
        "                         'mfcc_2_mean',\n",
        "                         'mfcc_1_max',\n",
        "                         'mfcc_6_median',\n",
        "                         'mfcc_7_std',\n",
        "                         'mfcc_6_mean',\n",
        "                         'spectral_centroid_min',\n",
        "                         'mfcc_9_mean',\n",
        "                         'mfcc_11_min',\n",
        "                         'spectral_roll_of_min',\n",
        "                         'mfcc_9_median',\n",
        "                         'mfcc_12_max',\n",
        "                         'tonnetz_3_min',\n",
        "                         'tonnetz_4_min',\n",
        "                         'tonnetz_4_max',\n",
        "                         'mfcc_7_max',\n",
        "                         'spectral_flatness_mean',\n",
        "                         'mfcc_12_mean',\n",
        "                         'mfcc_12_median',\n",
        "                         'mfcc_11_mean',\n",
        "                         'mfcc_8_median',\n",
        "                         'tonnetz_3_max',\n",
        "                         'mfcc_11_median',\n",
        "                         'mfcc_8_mean',\n",
        "                         'mfcc_6_std',\n",
        "                         'tonnetz_6_max',\n",
        "                         'tonnetz_5_max',\n",
        "                         'tonnetz_5_min',\n",
        "                         'mfcc_4_std',\n",
        "                         'mfcc_4_max',\n",
        "                         'spectral_flatness_max',\n",
        "                         'mfcc_7_min',\n",
        "                         'mfcc_5_std',\n",
        "                         'tonnetz_6_min',\n",
        "                         'mfcc_5_min',\n",
        "                         'mfcc_8_max',\n",
        "                         'mfcc_3_std',\n",
        "                         'mfcc_6_max',\n",
        "                         'mfcc_5_median',\n",
        "                         'mfcc_7_mean',\n",
        "                         'mfcc_7_median',\n",
        "                         'mfcc_5_mean',\n",
        "                         'tonnetz_2_std',\n",
        "                         'spectral_flatness_std',\n",
        "                         'mfcc_2_max',\n",
        "                         'tonnetz_1_std',\n",
        "                         'spectral_roll_of_std',\n",
        "                         'mfcc_3_min',\n",
        "                         'tonnetz_3_std',\n",
        "                         'mfcc_1_median',\n",
        "                         'mfcc_1_mean',\n",
        "                         'mfcc_3_max',\n",
        "                         'mfcc_5_max',\n",
        "                         'tonnetz_4_std',\n",
        "                         'mfcc_3_median',\n",
        "                         'tonnetz_6_std',\n",
        "                         'mfcc_1_min',\n",
        "                         'mfcc_3_mean',\n",
        "                         'tonnetz_5_std',\n",
        "                         'spectral_centroid_median',\n",
        "                         'spectral_centroid_mean',\n",
        "                         'spectral_roll_of_median',\n",
        "                         'spectral_roll_of_mean',\n",
        "                         'spectral_centroid_std',\n",
        "                         'spectral_roll_of_max',\n",
        "                         'spectral_centroid_max']\n"
      ]
    },
    {
      "cell_type": "markdown",
      "metadata": {
        "id": "GJniiCmG4YLD"
      },
      "source": [
        "## 10-Fold Cross-Validation"
      ]
    },
    {
      "cell_type": "code",
      "execution_count": null,
      "metadata": {
        "id": "oH1t_-46iTpU"
      },
      "outputs": [],
      "source": [
        "@ignore_warnings(category=ConvergenceWarning)\n",
        "def cv_train(clf, \n",
        "             path_to_experiment,\n",
        "             param_grid):\n",
        "  p = pathlib.Path(path_to_experiment).absolute()\n",
        "  folds = [utils.prepare_sklearn(str(p.joinpath(f'fold-{i}.csv')), \n",
        "                                 selected_features) for i in range(1, 11)]\n",
        "\n",
        "  reports = []\n",
        "  best_models = []\n",
        "\n",
        "  def _prepare_train_validation(fold_index):\n",
        "    folds_ = folds[:fold_index] + folds[fold_index + 1:]\n",
        "\n",
        "    # Conjunto de validação\n",
        "    X_val, Y_val = folds[fold_index]\n",
        "\n",
        "    # Conjunto de treino\n",
        "    X_train, Y_train = folds_[0]\n",
        "\n",
        "    for X, Y in folds_[1:]:\n",
        "      X_train = np.concatenate((X_train, X))\n",
        "      Y_train = np.concatenate((Y_train, Y))\n",
        "\n",
        "    return X_train, X_val, Y_train, Y_val\n",
        "\n",
        "  # Loop de CV\n",
        "  for i in range(0, 10):\n",
        "    print(f'Started Fold {i+1}')\n",
        "    # Preparar os conjunto de treino e validação\n",
        "    X_train, X_val, Y_train, Y_val = _prepare_train_validation(i)\n",
        "\n",
        "    # Criação do GridSearch para otimizar os parâmetros nessa iteração\n",
        "    # Nested-Cross Validation com K=3\n",
        "    estimator = clone(clf)\n",
        "    clf_ = GridSearchCV(estimator=estimator, \n",
        "                        param_grid=param_grid,\n",
        "                        cv=3,\n",
        "                        refit=True)\n",
        "    \n",
        "    # Buscar pelos parâmetros\n",
        "    clf_.fit(X_train, Y_train)\n",
        "\n",
        "    # Guardar melhor modelo\n",
        "    best_models.append(clf_.best_estimator_)\n",
        "\n",
        "    # Calcular métricas no conjunto de validação\n",
        "    predictions = best_models[-1].predict(X_val)\n",
        "    report = classification_report(Y_val, \n",
        "                                   predictions, \n",
        "                                   digits=3, \n",
        "                                   output_dict=True)\n",
        "    reports.append(report)\n",
        "\n",
        "    print(f'Finished Fold {i+1}')\n",
        "    print(reports[-1]['weighted avg'])\n",
        "    print('-'*10)\n",
        "\n",
        "  return best_models, reports\n"
      ]
    },
    {
      "cell_type": "code",
      "execution_count": null,
      "metadata": {
        "id": "Ww9nLJIf5LDu"
      },
      "outputs": [],
      "source": [
        "def to_dataframe(reports):\n",
        "  data = {\n",
        "      'precision': [],\n",
        "      'recall': [],\n",
        "      'f1-score': []\n",
        "  }\n",
        "\n",
        "  for r in reports:\n",
        "    r_ = r['weighted avg']\n",
        "\n",
        "    for k in list(data.keys()):\n",
        "      data[k].append(r_[k])\n",
        "\n",
        "  return pd.DataFrame(data)\n",
        "  "
      ]
    },
    {
      "cell_type": "markdown",
      "metadata": {
        "id": "LsNFmnxJ5NfO"
      },
      "source": [
        "## ANN"
      ]
    },
    {
      "cell_type": "code",
      "execution_count": null,
      "metadata": {
        "colab": {
          "base_uri": "https://localhost:8080/"
        },
        "id": "Ocehhzi-vqRf",
        "outputId": "f1bdd4ca-72e0-4978-ac2a-861496190534"
      },
      "outputs": [],
      "source": [
        "models, reports = cv_train(clf=MLPClassifier(),\n",
        "                           path_to_experiment=f'/content/{dataset}/{experiment}',\n",
        "                           param_grid={'hidden_layer_sizes': [(149, 40), (100, 40)],\n",
        "                                       'activation': ['relu'],\n",
        "                                       'solver': ['adam'],\n",
        "                                       'alpha': [1e-4, 1e-5],\n",
        "                                       'max_iter': [200],\n",
        "                                       'learning_rate_init': [1e-3, 1e-4],\n",
        "                                       'n_iter_no_change': [500]})\n",
        "df = to_dataframe(reports)"
      ]
    },
    {
      "cell_type": "code",
      "execution_count": null,
      "metadata": {
        "colab": {
          "base_uri": "https://localhost:8080/"
        },
        "id": "zlh7cGI-4v92",
        "outputId": "51c9776a-ecec-4191-e0bb-850af46764bc"
      },
      "outputs": [],
      "source": [
        "# Média das métricas para o experimento\n",
        "df.mean()"
      ]
    },
    {
      "cell_type": "code",
      "execution_count": null,
      "metadata": {
        "colab": {
          "base_uri": "https://localhost:8080/"
        },
        "id": "VRNEKIbP4yiV",
        "outputId": "583cea43-001f-442f-d7ac-a59359d42182"
      },
      "outputs": [],
      "source": [
        "# Desvio padrão das métricas para o experimento\n",
        "df.std()"
      ]
    },
    {
      "cell_type": "markdown",
      "metadata": {
        "id": "WBWTy0if5PXh"
      },
      "source": [
        "## SVM"
      ]
    },
    {
      "cell_type": "code",
      "execution_count": null,
      "metadata": {
        "colab": {
          "base_uri": "https://localhost:8080/"
        },
        "id": "ux4mkID15S0R",
        "outputId": "17afd71c-c589-4600-c9a1-0bbd02306296"
      },
      "outputs": [],
      "source": [
        "models, reports = cv_train(clf=svm.SVC(),\n",
        "                           path_to_experiment=f'/content/{dataset}/{experiment}',\n",
        "                           param_grid={'C': [0.25, 0.5, 1.0],\n",
        "                                       'decision_function_shape': ['ovo', 'ovr'],\n",
        "                                       'kernel': ['rbf', 'linear'],\n",
        "                                       'max_iter': [200]})\n",
        "df = to_dataframe(reports)"
      ]
    },
    {
      "cell_type": "code",
      "execution_count": null,
      "metadata": {
        "colab": {
          "base_uri": "https://localhost:8080/"
        },
        "id": "jFm_nzpY5yLg",
        "outputId": "a58bcca7-2bba-47c0-e807-ccd4c587873e"
      },
      "outputs": [],
      "source": [
        "df.mean()"
      ]
    },
    {
      "cell_type": "code",
      "execution_count": null,
      "metadata": {
        "colab": {
          "base_uri": "https://localhost:8080/"
        },
        "id": "UMFwmXFO5y6e",
        "outputId": "541cc26f-0fae-417a-f80c-e51eaf601237"
      },
      "outputs": [],
      "source": [
        "df.std()"
      ]
    },
    {
      "cell_type": "markdown",
      "metadata": {
        "id": "jBJNsFfB57ug"
      },
      "source": [
        "## K-NN"
      ]
    },
    {
      "cell_type": "code",
      "execution_count": null,
      "metadata": {
        "colab": {
          "base_uri": "https://localhost:8080/"
        },
        "id": "W3Q6UAdY5-OU",
        "outputId": "c3e00596-b5a0-4b72-8b0a-876c1901be2f"
      },
      "outputs": [],
      "source": [
        "models, reports = cv_train(KNeighborsClassifier(),\n",
        "                      f'/content/{dataset}/{experiment}',\n",
        "                      {'n_neighbors': [3, 5, 8, 10, 15],\n",
        "                       'leaf_size': [20, 30, 40],\n",
        "                       'algorithm': ['auto', 'ball_tree', 'kd_tree'],\n",
        "                       'metric': ['minkowski', 'l1', 'l2', 'manhattan']})\n",
        "df = to_dataframe(reports)"
      ]
    },
    {
      "cell_type": "code",
      "execution_count": null,
      "metadata": {
        "colab": {
          "base_uri": "https://localhost:8080/"
        },
        "id": "imXjBtfB6Emr",
        "outputId": "d4760788-91f4-4d99-c63f-6192ed0a52bd"
      },
      "outputs": [],
      "source": [
        "df.mean()"
      ]
    },
    {
      "cell_type": "code",
      "execution_count": null,
      "metadata": {
        "colab": {
          "base_uri": "https://localhost:8080/"
        },
        "id": "Oad5dE2E6FUH",
        "outputId": "8a014250-d0f7-4667-a9c0-b926c42762f7"
      },
      "outputs": [],
      "source": [
        "df.std()"
      ]
    },
    {
      "cell_type": "markdown",
      "metadata": {
        "id": "wev5nWH47bVI"
      },
      "source": [
        "## Árvores de Decisão"
      ]
    },
    {
      "cell_type": "code",
      "execution_count": null,
      "metadata": {
        "colab": {
          "base_uri": "https://localhost:8080/"
        },
        "id": "7riAWY487dEd",
        "outputId": "fd0c1108-e798-4328-f9b9-99ef5ce536ce"
      },
      "outputs": [],
      "source": [
        "models, reports = cv_train(tree.ExtraTreeClassifier(),\n",
        "                      f'/content/{dataset}/{experiment}',\n",
        "                      {'criterion': ['gini', 'entropy'],\n",
        "                       'splitter': ['best', 'random'],\n",
        "                       'min_samples_split': [2, 4, 8, 10],\n",
        "                       'min_samples_leaf': [1, 2, 4],\n",
        "                       'ccp_alpha': [0.0, 0.25, 0.5],\n",
        "                       'max_features': ['auto', 'sqrt', 'log2']})\n",
        "df = to_dataframe(reports)"
      ]
    },
    {
      "cell_type": "code",
      "execution_count": null,
      "metadata": {
        "colab": {
          "base_uri": "https://localhost:8080/"
        },
        "id": "TdYSwxk67qtM",
        "outputId": "e43dfca9-6b30-4579-873d-6bf38bd314ed"
      },
      "outputs": [],
      "source": [
        "df.mean()"
      ]
    },
    {
      "cell_type": "code",
      "execution_count": null,
      "metadata": {
        "colab": {
          "base_uri": "https://localhost:8080/"
        },
        "id": "QhmbdG5g7rR5",
        "outputId": "84a581a9-8755-4c8a-ff9e-5757b9a275f5"
      },
      "outputs": [],
      "source": [
        "df.std()"
      ]
    }
  ],
  "metadata": {
    "colab": {
      "collapsed_sections": [
        "CWur3X9g4TxB",
        "GJniiCmG4YLD",
        "LsNFmnxJ5NfO",
        "WBWTy0if5PXh",
        "jBJNsFfB57ug"
      ],
      "provenance": []
    },
    "kernelspec": {
      "display_name": "Python 3.10.7 ('venv': venv)",
      "language": "python",
      "name": "python3"
    },
    "language_info": {
      "name": "python",
      "version": "3.10.7"
    },
    "vscode": {
      "interpreter": {
        "hash": "d426eba1f41c72b438522280d7da5a1f1f5189849f3d0ec5377a814338d7455a"
      }
    }
  },
  "nbformat": 4,
  "nbformat_minor": 0
}
